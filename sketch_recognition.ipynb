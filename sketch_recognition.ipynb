{
  "cells": [
    {
      "cell_type": "markdown",
      "metadata": {},
      "source": [
        "## Deep Sketch: Deep Convolutional Neural Networks for Sketch Recognition and Similarity"
      ]
    },
    {
      "cell_type": "markdown",
      "metadata": {
        "id": "y0UP-B8QQYwz",
        "colab_type": "text"
      },
      "source": [
        "### Download and unzip TU Berlin Sketch Dataset"
      ]
    },
    {
      "cell_type": "code",
      "metadata": {
        "id": "X8TRk7vwNKX8",
        "colab_type": "code",
        "colab": {}
      },
      "source": [
        "!wget http://cybertron.cg.tu-berlin.de/eitz/projects/classifysketch/sketches_png.zip\n",
        "!unzip sketches_png.zip"
      ],
      "execution_count": 0,
      "outputs": []
    },
    {
      "cell_type": "markdown",
      "metadata": {
        "id": "iu_dMWrV3a19",
        "colab_type": "text"
      },
      "source": [
        "### Importing required modules"
      ]
    },
    {
      "cell_type": "code",
      "metadata": {
        "id": "YuPoix3thYF0",
        "colab_type": "code",
        "colab": {}
      },
      "source": [
        "import numpy as np\n",
        "import torch\n",
        "import torch.utils.data\n",
        "import torch.nn as nn\n",
        "import torch.nn.functional as f\n",
        "import torch.optim as optim \n",
        "import torchvision\n",
        "import sklearn.metrics as sm \n",
        "from PIL import Image, ImageOps\n",
        "from glob import glob\n",
        "import time\n",
        "\n",
        "PATH=''"
      ],
      "execution_count": 0,
      "outputs": []
    },
    {
      "cell_type": "markdown",
      "metadata": {
        "id": "RY1D9QF8xKNZ",
        "colab_type": "text"
      },
      "source": [
        "### Preprocess Image files:\n",
        "* Resize image using cubic spline interpolation\n",
        "* Invert colors\n",
        "* Increase the intensity"
      ]
    },
    {
      "cell_type": "code",
      "metadata": {
        "id": "VBZ_G46ek4w6",
        "colab_type": "code",
        "colab": {}
      },
      "source": [
        "files=glob(PATH+'png/*/*',recursive=True)\n",
        "\n",
        "for file in sorted(files):\n",
        "    img=Image.open(file)\n",
        "    img=img.resize((180,180),Image.BICUBIC)\n",
        "    img=ImageOps.invert(img)\n",
        "    img=np.array(img)\n",
        "    img[img>0]=255\n",
        "    img=Image.fromarray(img)\n",
        "    img.save(file)\n",
        "    print(\"Saved File: %s\\r\"%(file))"
      ],
      "execution_count": 0,
      "outputs": []
    },
    {
      "cell_type": "markdown",
      "metadata": {
        "id": "yj58SWqwyIny",
        "colab_type": "text"
      },
      "source": [
        "### Create a map for labels"
      ]
    },
    {
      "cell_type": "code",
      "metadata": {
        "id": "1HJmvXybvnay",
        "colab_type": "code",
        "colab": {}
      },
      "source": [
        "folders=glob(PATH+'png/*')\n",
        "folders=[x[len(PATH+'png/'):] for x in folders]\n",
        "folders.remove('filelist.txt')\n",
        "folders=sorted(folders)\n",
        "np.save(PATH+'labels.npy',folders)"
      ],
      "execution_count": 0,
      "outputs": []
    },
    {
      "cell_type": "markdown",
      "metadata": {
        "id": "pBYNY2m4yUS_",
        "colab_type": "text"
      },
      "source": [
        "### Define the model"
      ]
    },
    {
      "cell_type": "code",
      "metadata": {
        "id": "bmFi2AkMhYF6",
        "colab_type": "code",
        "colab": {}
      },
      "source": [
        "class CNN(nn.Module):\n",
        "\n",
        "    def __init__(self):\n",
        "        super(CNN,self).__init__()\n",
        "        self.conv1=nn.Conv2d(1,64,7,2,0)\n",
        "        self.conv2=nn.Conv2d(64,128,5,2,2)\n",
        "        self.conv3=nn.Conv2d(128,256,3,1,1)\n",
        "        self.conv4=nn.Conv2d(256,512,3,1,0)\n",
        "        self.conv5=nn.Conv2d(512,4096,5,1,0)\n",
        "        self.conv6=nn.Conv2d(4096,250,1,1,0)\n",
        "        self.maxpool=nn.MaxPool2d(3,2,0)\n",
        "        self.dropout=nn.Dropout()\n",
        "\n",
        "    def forward(self,x):\n",
        "        x = self.conv1(x)\n",
        "        x = f.leaky_relu(x)\n",
        "        x = self.maxpool(x)\n",
        "\n",
        "        x = self.conv2(x)\n",
        "        x = f.leaky_relu(x)\n",
        "        x = a = self.maxpool(x)\n",
        "        \n",
        "        x = self.conv3(x)\n",
        "        x = f.leaky_relu(x)\n",
        "\n",
        "        x = self.conv4(x)\n",
        "        x = f.leaky_relu(x)\n",
        "        x = b = self.maxpool(x)\n",
        "\n",
        "        x = self.conv5(x)\n",
        "        x = c = f.leaky_relu(x)\n",
        "        \n",
        "        x = self.dropout(x)\n",
        "        \n",
        "        x = self.conv6(x)\n",
        "        x = x.view(-1,250)\n",
        "\n",
        "        return (x,a,b,c)"
      ],
      "execution_count": 0,
      "outputs": []
    },
    {
      "cell_type": "markdown",
      "metadata": {
        "id": "gcpFQaHOyhB1",
        "colab_type": "text"
      },
      "source": [
        "### Function for dataset generation"
      ]
    },
    {
      "cell_type": "code",
      "metadata": {
        "id": "1twXChVFhYF-",
        "colab_type": "code",
        "colab": {}
      },
      "source": [
        "def get_data_loader(root,batch_size):\n",
        "    img_transform=torchvision.transforms.Compose([\n",
        "            torchvision.transforms.Pad(22),\n",
        "            torchvision.transforms.RandomAffine(degrees=35),\n",
        "            torchvision.transforms.ToTensor()\n",
        "        ])\n",
        "    dataset=torchvision.datasets.ImageFolder(root,img_transform)\n",
        "    loader=torch.utils.data.DataLoader(dataset,batch_size=batch_size,shuffle=True)\n",
        "    return loader"
      ],
      "execution_count": 0,
      "outputs": []
    },
    {
      "cell_type": "markdown",
      "metadata": {
        "id": "A9LmvNqMyv20",
        "colab_type": "text"
      },
      "source": [
        "### Training the model\n",
        "* Adam Optimization Algorithm\n",
        "* Cross Entropy Loss function for multi-class classification\n",
        "* CUDA on GPU for speed"
      ]
    },
    {
      "cell_type": "code",
      "metadata": {
        "id": "1ti9ZLgFhYGG",
        "colab_type": "code",
        "colab": {}
      },
      "source": [
        "device=torch.device('cuda' if torch.cuda.is_available() else 'cpu')\n",
        "print('Device:',device)\n",
        "\n",
        "model_name='model_1.pt'\n",
        "logger = open(model_name[:-3]+'_train.txt','w')\n",
        "\n",
        "model=CNN().to(device)\n",
        "\n",
        "lossfunc=nn.CrossEntropyLoss()\n",
        "optimizer=optim.Adam(model.parameters())\n",
        "\n",
        "batch_size=64\n",
        "epochs=10\n",
        "printfreq=60\n",
        "\n",
        "train_loader=get_data_loader(PATH+'png/',batch_size)\n",
        "\n",
        "logger.write(str(model)+'\\n\\n')\n",
        "logger.write(\"Device : %s\\n\\n\"%(device))\n",
        "logger.write(\"Optimizer : ADAM\\n\\n\")\n",
        "logger.write(\"Batch Size : %d\\n\\n\"%(batch_size))\n",
        "logger.write(\"Epochs : %d\\n\\n\"%(epochs))\n",
        "\n",
        "print(\"\\nTraining...\\n\")\n",
        "\n",
        "start_time=time.time()\n",
        "\n",
        "for ep in range(epochs):\n",
        "    \n",
        "    running_loss=0.0\n",
        "    train_loss=0.0\n",
        "    test_loss=0.0\n",
        "\n",
        "    for i,data in enumerate(train_loader):\n",
        "        x,y = data\n",
        "        \n",
        "        x=x[:,0].unsqueeze(1)\n",
        "\n",
        "        x,y = x.to(device),y.to(device)\n",
        "        \n",
        "        optimizer.zero_grad()\n",
        "\n",
        "        output = model(x)\n",
        "\n",
        "        loss = lossfunc(output[0],y)\n",
        "        running_loss+=loss.item()\n",
        "        train_loss+=loss.item()\n",
        "\n",
        "        loss.backward()\n",
        "        optimizer.step()\n",
        "\n",
        "        if (i+1)%printfreq==0:\n",
        "            print(\"**** Epoch %d ****\\nBatch: %d\\tRunning Loss: %.4f\\n\"%(ep+1,i+1,running_loss))\n",
        "            running_loss=0.0\n",
        "        \n",
        "    logger.write(\"**** Epoch %d ****\\nTrain Loss: %.4f\\nTest Loss: %.4f\\n\\n\"%((ep+1),train_loss,test_loss))\n",
        "\n",
        "end_time=time.time()\n",
        "print(\"Training Complete. Time Taken: %.4f\\n\"%(end_time-start_time))\n",
        "\n",
        "logger.close()\n",
        "\n",
        "model.cpu()\n",
        "torch.save(model.state_dict(),model_name)"
      ],
      "execution_count": 0,
      "outputs": []
    },
    {
      "cell_type": "markdown",
      "metadata": {
        "id": "G1HI4xrc0R8U",
        "colab_type": "text"
      },
      "source": [
        "### Classifier"
      ]
    },
    {
      "cell_type": "code",
      "metadata": {
        "id": "VWAIIORtz-kR",
        "colab_type": "code",
        "colab": {}
      },
      "source": [
        "def classifier(image,model,labels):\n",
        "    img_transform=torchvision.transforms.Compose([\n",
        "            torchvision.transforms.Pad(22),\n",
        "            torchvision.transforms.ToTensor()\n",
        "        ])\n",
        "    x=img_transform(image)\n",
        "    x=x.unsqueeze(0)\n",
        "    y=model(x)\n",
        "    idx=torch.argmax(y[0]).item()\n",
        "    return labels[idx]"
      ],
      "execution_count": 0,
      "outputs": []
    },
    {
      "cell_type": "markdown",
      "metadata": {
        "id": "O4EKvwf30dCg",
        "colab_type": "text"
      },
      "source": [
        "### Examples"
      ]
    },
    {
      "cell_type": "code",
      "metadata": {
        "id": "zT-gb7bTz9ST",
        "colab_type": "code",
        "colab": {}
      },
      "source": [
        "model=CNN()\n",
        "model.load_state_dict(torch.load(PATH+'model_1.pt'))\n",
        "model.eval()\n",
        "\n",
        "labels=np.load(PATH+'labels.npy')\n",
        "img=Image.open(PATH+'png/airplane/63.png')\n",
        "\n",
        "label=classifier(img,model,labels)\n",
        "print(label)"
      ],
      "execution_count": 0,
      "outputs": []
    },
    {
      "cell_type": "markdown",
      "metadata": {
        "id": "U0lEgI35KcMj",
        "colab_type": "text"
      },
      "source": [
        "### Performance Evaluation"
      ]
    },
    {
      "cell_type": "code",
      "metadata": {
        "id": "4Edw7Q5lGo9l",
        "colab_type": "code",
        "colab": {}
      },
      "source": [
        "device=torch.device('cuda' if torch.cuda.is_available() else 'cpu')\n",
        "\n",
        "model_name='model_1.pt'\n",
        "model=CNN()\n",
        "model.load_state_dict(torch.load(PATH+model_name))\n",
        "model.to(device)\n",
        "model.eval()\n",
        "\n",
        "logger=open(model_name[:-3]+'_performance.txt','w')\n",
        "\n",
        "batch_size=64\n",
        "\n",
        "test_loader=get_data_loader(PATH+'png/',batch_size)\n",
        "target=[]\n",
        "prediction=[]\n",
        "\n",
        "print(\"\\nTesting...\\n\")\n",
        "\n",
        "start_time=time.time()\n",
        "\n",
        "for i,data in enumerate(test_loader):\n",
        "    x,y = data\n",
        "    x=x[:,0].unsqueeze(1)\n",
        "    x = x.to(device)\n",
        "    output = model(x)\n",
        "    idx=torch.argmax(output[0],1).detach().cpu().numpy()\n",
        "    y=y.numpy()\n",
        "    prediction=np.append(prediction,idx)\n",
        "    target=np.append(target,y)\n",
        "    print(\"Batch: %d\"%(i))\n",
        "\n",
        "end_time=time.time()\n",
        "print(\"Testing Complete. Time Taken: %.4f\\n\"%(end_time-start_time))\n",
        "\n",
        "report=sm.classification_report(target,prediction)\n",
        "\n",
        "print(report)\n",
        "print(sm.accuracy_score(target,prediction))\n",
        "logger.write(report)\n",
        "logger.close()"
      ],
      "execution_count": 0,
      "outputs": []
    }
  ],
  "metadata": {
    "kernelspec": {
      "name": "python3",
      "display_name": "Python 3"
    },
    "colab": {
      "name": "sketch_recognition.ipynb",
      "provenance": [],
      "collapsed_sections": [],
      "toc_visible": true
    },
    "accelerator": "GPU"
  },
  "nbformat": 4,
  "nbformat_minor": 0
}