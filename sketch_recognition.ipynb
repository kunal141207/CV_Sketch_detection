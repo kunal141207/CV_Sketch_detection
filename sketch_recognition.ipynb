{
  "cells": [
    {
      "cell_type": "markdown",
      "metadata": {
        "id": "y0UP-B8QQYwz",
        "colab_type": "text"
      },
      "source": [
        "### Download and unzip TU Berlin Sketch Dataset"
      ]
    },
    {
      "cell_type": "code",
      "metadata": {
        "id": "X8TRk7vwNKX8",
        "colab_type": "code",
        "colab": {}
      },
      "source": [
        "!wget http://cybertron.cg.tu-berlin.de/eitz/projects/classifysketch/sketches_png.zip\n",
        "!unzip sketches_png.zip\n",
        "!rm png/filelist.txt"
      ],
      "execution_count": null,
      "outputs": []
    },
    {
      "cell_type": "markdown",
      "metadata": {
        "id": "iu_dMWrV3a19",
        "colab_type": "text"
      },
      "source": [
        "### Importing required modules"
      ]
    },
    {
      "cell_type": "code",
      "metadata": {
        "id": "YuPoix3thYF0",
        "colab_type": "code",
        "colab": {}
      },
      "source": [
        "import numpy as np\n",
        "import torch\n",
        "import torch.utils.data\n",
        "import torch.nn as nn\n",
        "import torch.nn.functional as f\n",
        "import torch.optim as optim \n",
        "import torchvision\n",
        "import sklearn.metrics as sm \n",
        "from PIL import Image, ImageOps\n",
        "import os\n",
        "from glob import glob\n",
        "import time"
      ],
      "execution_count": 2,
      "outputs": []
    },
    {
      "cell_type": "markdown",
      "metadata": {
        "id": "RY1D9QF8xKNZ",
        "colab_type": "text"
      },
      "source": [
        "### Train-Test Split and Preprocess Image files:\n",
        "* Training samples: 60 x 250, Testing samples: 20 x 250 \n",
        "* Resize image using cubic spline interpolation\n",
        "* Invert colors\n",
        "* Increase the intensity"
      ]
    },
    {
      "cell_type": "code",
      "metadata": {
        "id": "VBZ_G46ek4w6",
        "colab_type": "code",
        "colab": {}
      },
      "source": [
        "try:\n",
        "    os.mkdir('train')\n",
        "except OSError as error:  \n",
        "    print(error) \n",
        "\n",
        "try:\n",
        "    os.mkdir('test')\n",
        "except OSError as error:  \n",
        "    print(error) \n",
        "\n",
        "train_num=53\n",
        "\n",
        "folders=glob('png/*')\n",
        "\n",
        "for folder in sorted(folders):\n",
        "    folder_name=folder.split('/')[-1]\n",
        "\n",
        "    try:\n",
        "        os.mkdir('train/'+folder_name)\n",
        "    except OSError as error:  \n",
        "        print(error) \n",
        "\n",
        "    try:\n",
        "        os.mkdir('test/'+folder_name)\n",
        "    except OSError as error:  \n",
        "        print(error) \n",
        "\n",
        "    files=glob(folder+'/*')\n",
        "\n",
        "    for i,file in enumerate(sorted(files)):\n",
        "        \n",
        "        temp=file.split('/')\n",
        "        dest='/'.join(temp[-2:])\n",
        "        if i<train_num:\n",
        "            dest='train/'+dest\n",
        "        else:\n",
        "            dest='test/'+dest\n",
        "        \n",
        "        img=Image.open(file)\n",
        "        img=img.resize((180,180),Image.BICUBIC)\n",
        "        img=ImageOps.invert(img)\n",
        "        img=np.array(img)\n",
        "        img[img>0]=255\n",
        "        img=Image.fromarray(img)\n",
        "        img.save(dest)\n",
        "        print(\"Saved File: %s\\r\"%(file))"
      ],
      "execution_count": null,
      "outputs": []
    },
    {
      "cell_type": "markdown",
      "metadata": {
        "id": "lgcuUT0PjNcB",
        "colab_type": "text"
      },
      "source": [
        "Mount G Drive"
      ]
    },
    {
      "cell_type": "code",
      "metadata": {
        "id": "5H2NHFarjUIz",
        "colab_type": "code",
        "outputId": "184786bf-8a87-4ce9-b289-6775c854fa71",
        "colab": {
          "base_uri": "https://localhost:8080/",
          "height": 122
        }
      },
      "source": [
        "from google.colab import drive\n",
        "drive.mount('/content/drive')"
      ],
      "execution_count": null,
      "outputs": []
    },
    {
      "cell_type": "markdown",
      "metadata": {
        "id": "iA1fwlbcjY-V",
        "colab_type": "text"
      },
      "source": [
        "If Dataset is not already present, copy train and test dataset folders to G Drive"
      ]
    },
    {
      "cell_type": "code",
      "metadata": {
        "id": "ygx4KBGejl3y",
        "colab_type": "code",
        "colab": {
          "base_uri": "https://localhost:8080/",
          "height": 34
        },
        "outputId": "a1c5120c-a865-4853-ca48-bd7f3d1df3f9"
      },
      "source": [
        "!cp -r train 'drive/My Drive/Sketch_Project/'\n",
        "!cp -r test 'drive/My Drive/Sketch_Project/'"
      ],
      "execution_count": null,
      "outputs": []
    },
    {
      "cell_type": "markdown",
      "metadata": {
        "id": "9pfopcTlm2ZP",
        "colab_type": "text"
      },
      "source": [
        "If Dataset is already present on G Drive copy it to local runtime."
      ]
    },
    {
      "cell_type": "code",
      "metadata": {
        "id": "3M8dnVEhlRwl",
        "colab_type": "code",
        "colab": {}
      },
      "source": [
        "!cp -r 'drive/My Drive/CV_Project/train' .\n",
        "!cp -r 'drive/My Drive/CV_Project/test' ."
      ],
      "execution_count": null,
      "outputs": []
    },
    {
      "cell_type": "markdown",
      "metadata": {
        "id": "yj58SWqwyIny",
        "colab_type": "text"
      },
      "source": [
        "### Create a map for labels"
      ]
    },
    {
      "cell_type": "code",
      "metadata": {
        "id": "1HJmvXybvnay",
        "colab_type": "code",
        "colab": {}
      },
      "source": [
        "folders=glob('train/*')\n",
        "folders=[x[len('train/'):] for x in folders]\n",
        "folders=sorted(folders)\n",
        "np.save('labels.npy',folders)"
      ],
      "execution_count": 3,
      "outputs": []
    },
    {
      "cell_type": "markdown",
      "metadata": {
        "id": "pBYNY2m4yUS_",
        "colab_type": "text"
      },
      "source": [
        "### Define the model"
      ]
    },
    {
      "cell_type": "code",
      "metadata": {
        "id": "bmFi2AkMhYF6",
        "colab_type": "code",
        "colab": {}
      },
      "source": [
        "class CNN(nn.Module):\n",
        "\n",
        "    def __init__(self):\n",
        "        super(CNN,self).__init__()\n",
        "        self.conv1=nn.Conv2d(1,64,7,2,0)\n",
        "        self.conv2=nn.Conv2d(64,128,5,2,2)\n",
        "        self.conv3=nn.Conv2d(128,256,3,1,1)\n",
        "        self.conv4=nn.Conv2d(256,512,3,1,0)\n",
        "        self.conv5=nn.Conv2d(512,4096,5,1,0)\n",
        "        self.conv6=nn.Conv2d(4096,250,1,1,0)\n",
        "        self.maxpool=nn.MaxPool2d(3,2,0)\n",
        "        self.dropout=nn.Dropout()\n",
        "\n",
        "    def forward(self,x):\n",
        "        x = self.conv1(x)\n",
        "        x = f.leaky_relu(x)\n",
        "        x = self.maxpool(x)\n",
        "\n",
        "        x = self.conv2(x)\n",
        "        x = f.leaky_relu(x)\n",
        "        x = a = self.maxpool(x)\n",
        "        \n",
        "        x = self.conv3(x)\n",
        "        x = f.leaky_relu(x)\n",
        "\n",
        "        x = self.conv4(x)\n",
        "        x = f.leaky_relu(x)\n",
        "        x = b = self.maxpool(x)\n",
        "\n",
        "        x = self.conv5(x)\n",
        "        x = c = f.leaky_relu(x)\n",
        "        \n",
        "        x = self.dropout(x)\n",
        "        \n",
        "        x = self.conv6(x)\n",
        "        x = x.view(-1,250)\n",
        "\n",
        "        return (x,a,b,c)"
      ],
      "execution_count": null,
      "outputs": []
    },
    {
      "cell_type": "markdown",
      "metadata": {
        "id": "gcpFQaHOyhB1",
        "colab_type": "text"
      },
      "source": [
        "### Function for dataset generation"
      ]
    },
    {
      "cell_type": "code",
      "metadata": {
        "id": "1twXChVFhYF-",
        "colab_type": "code",
        "colab": {}
      },
      "source": [
        "def get_data_loader(root,batch_size):\n",
        "    img_transform=torchvision.transforms.Compose([\n",
        "            torchvision.transforms.Pad(22),\n",
        "            torchvision.transforms.RandomAffine(degrees=35),\n",
        "            torchvision.transforms.ToTensor()\n",
        "        ])\n",
        "    dataset=torchvision.datasets.ImageFolder(root,img_transform)\n",
        "    loader=torch.utils.data.DataLoader(dataset,batch_size=batch_size,shuffle=True)\n",
        "    return loader"
      ],
      "execution_count": null,
      "outputs": []
    },
    {
      "cell_type": "markdown",
      "metadata": {
        "id": "A9LmvNqMyv20",
        "colab_type": "text"
      },
      "source": [
        "### Training the model\n",
        "* Adam Optimization Algorithm\n",
        "* Cross Entropy Loss function for multi-class classification\n",
        "* CUDA on GPU for speed"
      ]
    },
    {
      "cell_type": "code",
      "metadata": {
        "id": "1ti9ZLgFhYGG",
        "colab_type": "code",
        "colab": {}
      },
      "source": [
        "device=torch.device('cuda' if torch.cuda.is_available() else 'cpu')\n",
        "print('Device:',device)\n",
        "\n",
        "model_name='model_1.pt'\n",
        "logger = open(model_name[:-3]+'_train.txt','w')\n",
        "\n",
        "model=CNN().to(device)\n",
        "\n",
        "lossfunc=nn.CrossEntropyLoss()\n",
        "optimizer=optim.Adam(model.parameters())\n",
        "\n",
        "batch_size=64\n",
        "epochs=10\n",
        "printfreq=60\n",
        "\n",
        "train_loader=get_data_loader('train/',batch_size)\n",
        "\n",
        "logger.write(str(model)+'\\n\\n')\n",
        "logger.write(\"Device : %s\\n\\n\"%(device))\n",
        "logger.write(\"Optimizer : ADAM\\n\\n\")\n",
        "logger.write(\"Batch Size : %d\\n\\n\"%(batch_size))\n",
        "logger.write(\"Epochs : %d\\n\\n\"%(epochs))\n",
        "\n",
        "print(\"\\nTraining...\\n\")\n",
        "\n",
        "start_time=time.time()\n",
        "\n",
        "for ep in range(epochs):\n",
        "    \n",
        "    running_loss=0.0\n",
        "    train_loss=0.0\n",
        "    test_loss=0.0\n",
        "\n",
        "    for i,data in enumerate(train_loader):\n",
        "        x,y = data\n",
        "        \n",
        "        x=x[:,0].unsqueeze(1)\n",
        "\n",
        "        x,y = x.to(device),y.to(device)\n",
        "        \n",
        "        optimizer.zero_grad()\n",
        "\n",
        "        output = model(x)\n",
        "\n",
        "        loss = lossfunc(output[0],y)\n",
        "        running_loss+=loss.item()\n",
        "        train_loss+=loss.item()\n",
        "\n",
        "        loss.backward()\n",
        "        optimizer.step()\n",
        "\n",
        "        if (i+1)%printfreq==0:\n",
        "            print(\"**** Epoch %d ****\\nBatch: %d\\tRunning Loss: %.4f\\n\"%(ep+1,i+1,running_loss))\n",
        "            running_loss=0.0\n",
        "        \n",
        "    logger.write(\"**** Epoch %d ****\\nTrain Loss: %.4f\\nTest Loss: %.4f\\n\\n\"%((ep+1),train_loss,test_loss))\n",
        "\n",
        "end_time=time.time()\n",
        "print(\"Training Complete. Time Taken: %.4f\\n\"%(end_time-start_time))\n",
        "\n",
        "logger.close()\n",
        "\n",
        "model.cpu()\n",
        "torch.save(model.state_dict(),model_name)"
      ],
      "execution_count": null,
      "outputs": []
    },
    {
      "cell_type": "markdown",
      "metadata": {
        "id": "HCKd7Cfwn1yU",
        "colab_type": "text"
      },
      "source": [
        "If Model and Labels list is not already saved on G Drive. Save Model and Labels list to G Drive."
      ]
    },
    {
      "cell_type": "code",
      "metadata": {
        "id": "EIz0LP4qoAz-",
        "colab_type": "code",
        "colab": {}
      },
      "source": [
        "!cp mode1_1.pt 'drive/My Drive/CV_Project/'\n",
        "!cp labels.npy 'drive/My Drive/CV_Project/'\n",
        "!cp model_1_train.txt 'drive/My Drive/CV_Project/'"
      ],
      "execution_count": null,
      "outputs": []
    },
    {
      "cell_type": "markdown",
      "metadata": {
        "id": "dnk2qaT1pGfR",
        "colab_type": "text"
      },
      "source": [
        "If Model and Labels list is already present on G Drive, copy it to local runtime."
      ]
    },
    {
      "cell_type": "code",
      "metadata": {
        "id": "L2u_c8Hqpqck",
        "colab_type": "code",
        "colab": {}
      },
      "source": [
        "!cp 'drive/My Drive/CV_Project/mode1_1.pt' .\n",
        "!cp 'drive/My Drive/CV_Project/labels.npy' ."
      ],
      "execution_count": null,
      "outputs": []
    },
    {
      "cell_type": "markdown",
      "metadata": {
        "id": "G1HI4xrc0R8U",
        "colab_type": "text"
      },
      "source": [
        "### Classifier"
      ]
    },
    {
      "cell_type": "code",
      "metadata": {
        "id": "VWAIIORtz-kR",
        "colab_type": "code",
        "colab": {}
      },
      "source": [
        "def classifier(image,model,labels):\n",
        "    img_transform=torchvision.transforms.Compose([\n",
        "            torchvision.transforms.Pad(22),\n",
        "            torchvision.transforms.ToTensor()\n",
        "        ])\n",
        "    x=img_transform(image)\n",
        "    x=x.unsqueeze(0)\n",
        "    y=model(x)\n",
        "    idx=torch.argmax(y[0]).item()\n",
        "    return labels[idx]"
      ],
      "execution_count": null,
      "outputs": []
    },
    {
      "cell_type": "markdown",
      "metadata": {
        "id": "O4EKvwf30dCg",
        "colab_type": "text"
      },
      "source": [
        "### Example for some image"
      ]
    },
    {
      "cell_type": "code",
      "metadata": {
        "id": "zT-gb7bTz9ST",
        "colab_type": "code",
        "colab": {}
      },
      "source": [
        "model=CNN()\n",
        "model.load_state_dict(torch.load('model_1.pt'))\n",
        "model.eval()\n",
        "\n",
        "labels=np.load('labels.npy')\n",
        "\n",
        "image_name='png/airplane/63.png'\n",
        "img=Image.open(image_name)\n",
        "\n",
        "label=classifier(img,model,labels)\n",
        "print(label)"
      ],
      "execution_count": null,
      "outputs": []
    },
    {
      "cell_type": "markdown",
      "metadata": {
        "id": "U0lEgI35KcMj",
        "colab_type": "text"
      },
      "source": [
        "### Performance Evaluation"
      ]
    },
    {
      "cell_type": "code",
      "metadata": {
        "id": "4Edw7Q5lGo9l",
        "colab_type": "code",
        "colab": {}
      },
      "source": [
        "device=torch.device('cuda' if torch.cuda.is_available() else 'cpu')\n",
        "\n",
        "model_name='model_1.pt'\n",
        "model=CNN()\n",
        "model.load_state_dict(torch.load(model_name))\n",
        "model.to(device)\n",
        "model.eval()\n",
        "\n",
        "logger=open(model_name[:-3]+'_performance.txt','w')\n",
        "\n",
        "batch_size=64\n",
        "\n",
        "test_loader=get_data_loader('test/',batch_size)\n",
        "target=[]\n",
        "prediction=[]\n",
        "\n",
        "print(\"\\nTesting...\\n\")\n",
        "\n",
        "start_time=time.time()\n",
        "\n",
        "for i,data in enumerate(test_loader):\n",
        "    x,y = data\n",
        "    x=x[:,0].unsqueeze(1)\n",
        "    x = x.to(device)\n",
        "    output = model(x)\n",
        "    idx=torch.argmax(output[0],1).detach().cpu().numpy()\n",
        "    y=y.numpy()\n",
        "    prediction=np.append(prediction,idx)\n",
        "    target=np.append(target,y)\n",
        "    print(\"Batch: %d\"%(i))\n",
        "\n",
        "end_time=time.time()\n",
        "print(\"Testing Complete. Time Taken: %.4f\\n\"%(end_time-start_time))\n",
        "\n",
        "report=sm.classification_report(target,prediction)\n",
        "\n",
        "print(report)\n",
        "print(sm.accuracy_score(target,prediction))\n",
        "logger.write(report)\n",
        "logger.close()"
      ],
      "execution_count": null,
      "outputs": []
    },
    {
      "cell_type": "markdown",
      "metadata": {
        "id": "wxd8qXYTqWKb",
        "colab_type": "text"
      },
      "source": [
        "Save Classification report to G Drive"
      ]
    },
    {
      "cell_type": "code",
      "metadata": {
        "id": "paQI1X8MqbA-",
        "colab_type": "code",
        "colab": {}
      },
      "source": [
        "!cp model_1_performance.txt 'drive/My Drive/CV_Project/'"
      ],
      "execution_count": null,
      "outputs": []
    }
  ],
  "metadata": {
    "kernelspec": {
      "name": "python3",
      "display_name": "Python 3"
    },
    "colab": {
      "name": "sketch_recognition.ipynb",
      "provenance": [],
      "collapsed_sections": [],
      "toc_visible": true
    }
  },
  "nbformat": 4,
  "nbformat_minor": 0
}