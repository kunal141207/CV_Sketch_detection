{
  "cells": [
    {
      "cell_type": "code",
      "metadata": {
        "id": "YuPoix3thYF0",
        "colab_type": "code",
        "colab": {}
      },
      "source": [
        "import numpy as np\n",
        "import torch\n",
        "import torch.utils.data\n",
        "import torch.nn as nn\n",
        "import torch.nn.functional as f\n",
        "import torch.optim as optim \n",
        "import torchvision\n",
        "import sklearn.metrics as sm \n",
        "from PIL import Image\n",
        "from PIL import ImageOps\n",
        "from glob import glob\n",
        "import time"
      ],
      "execution_count": 1,
      "outputs": []
    },
    {
      "cell_type": "code",
      "metadata": {
        "id": "VBZ_G46ek4w6",
        "colab_type": "code",
        "colab": {}
      },
      "source": [
        "files=glob('png/*/*',recursive=True)\n",
        "\n",
        "for file in sorted(files):\n",
        "    img=Image.open(file)\n",
        "    img=img.resize((180,180),Image.BICUBIC)\n",
        "    img=ImageOps.invert(img)\n",
        "    img=np.array(img)\n",
        "    img[img>0]=255\n",
        "    img=Image.fromarray(img)\n",
        "    img.save(file)"
      ],
      "execution_count": 0,
      "outputs": []
    },
    {
      "cell_type": "code",
      "metadata": {
        "id": "bmFi2AkMhYF6",
        "colab_type": "code",
        "colab": {}
      },
      "source": [
        "class Model(nn.Module):\n",
        "\n",
        "    def __init__(self):\n",
        "        super(Model,self).__init__()\n",
        "        self.conv1=nn.Conv2d(1,64,7,2,0)\n",
        "        self.conv2=nn.Conv2d(64,128,5,2,2)\n",
        "        self.conv3=nn.Conv2d(128,256,3,1,1)\n",
        "        self.conv4=nn.Conv2d(256,512,3,1,0)\n",
        "        self.conv5=nn.Conv2d(512,4096,5,1,0)\n",
        "        self.conv6=nn.Conv2d(4096,250,1,1,0)\n",
        "        self.maxpool=nn.MaxPool2d(3,2,0)\n",
        "        self.dropout=nn.Dropout()\n",
        "\n",
        "    def forward(self,x):\n",
        "        x = self.conv1(x)\n",
        "        x = f.relu(x)\n",
        "        x = self.maxpool(x)\n",
        "\n",
        "        x = self.conv2(x)\n",
        "        x = f.relu(x)\n",
        "        x = a = self.maxpool(x)\n",
        "        \n",
        "        x = self.conv3(x)\n",
        "        x = f.relu(x)\n",
        "\n",
        "        x = self.conv4(x)\n",
        "        x = f.relu(x)\n",
        "        x = b = self.maxpool(x)\n",
        "\n",
        "        x = self.conv5(x)\n",
        "        x = c = f.relu(x)\n",
        "        \n",
        "        x = self.dropout(x)\n",
        "        \n",
        "        x = self.conv6(x)\n",
        "        x = x.view(-1,250)\n",
        "\n",
        "        return (x,a,b,c)"
      ],
      "execution_count": 0,
      "outputs": []
    },
    {
      "cell_type": "code",
      "metadata": {
        "id": "1twXChVFhYF-",
        "colab_type": "code",
        "colab": {}
      },
      "source": [
        "def get_data_loader(root,batch_size):\n",
        "    img_transform=torchvision.transforms.Compose([\n",
        "            torchvision.transforms.Pad(22),\n",
        "            torchvision.transforms.RandomAffine(degrees=35),\n",
        "            torchvision.transforms.ToTensor()\n",
        "        ])\n",
        "    dataset=torchvision.datasets.ImageFolder(root,img_transform)\n",
        "    loader=torch.utils.data.DataLoader(dataset,batch_size=batch_size,shuffle=True)\n",
        "    return loader"
      ],
      "execution_count": 0,
      "outputs": []
    },
    {
      "cell_type": "code",
      "metadata": {
        "id": "p5RUplUthYGB",
        "colab_type": "code",
        "colab": {}
      },
      "source": [
        "train_loader=get_data_loader('./png/',64)\n",
        "print(len(train_loader))\n",
        "for data in train_loader:\n",
        "    x,y=data\n",
        "    print(x[0][0].shape)\n",
        "    x=x[:,0].unsqueeze(1)\n",
        "    img=Image.fromarray(x[0][0].numpy())\n",
        "    img.show()\n",
        "    print(x.shape)\n",
        "    break"
      ],
      "execution_count": 0,
      "outputs": []
    },
    {
      "cell_type": "code",
      "metadata": {
        "id": "1ti9ZLgFhYGG",
        "colab_type": "code",
        "colab": {}
      },
      "source": [
        "device=torch.device('cuda' if torch.cuda.is_available() else 'cpu')\n",
        "print('Device:',device)\n",
        "\n",
        "model='model_1.pt'\n",
        "logger = open(model[:-3]+'_train.txt','w')\n",
        "\n",
        "Net=Model().to(device=device)\n",
        "\n",
        "lossfunc=nn.CrossEntropyLoss()\n",
        "optimizer=optim.Adam(Net.parameters())\n",
        "\n",
        "batch_size=64\n",
        "epochs=2\n",
        "printfreq=100\n",
        "\n",
        "train_loader=get_data_loader('./png/',batch_size)\n",
        "\n",
        "logger.write(\"Device : %s\\n\\n\"%(device))\n",
        "logger.write(str(Net)+'\\n\\n')\n",
        "logger.write(\"Optimizer : ADAM\\n\\n\")\n",
        "logger.write(\"Batch Size : %d\\n\\n\"%(batch_size))\n",
        "logger.write(\"Epochs : %d\\n\\n\"%(epochs))\n",
        "\n",
        "print(\"\\nTraining...\\n\")\n",
        "\n",
        "start_time=time.time()\n",
        "\n",
        "for ep in range(epochs):\n",
        "    \n",
        "    running_loss=0.0\n",
        "    train_loss=0.0\n",
        "    test_loss=0.0\n",
        "\n",
        "    for i,data in enumerate(train_loader):\n",
        "        x,y = data\n",
        "        \n",
        "        x=x[:,0].unsqueeze(1)\n",
        "\n",
        "        x,y = x.to(device=device),y.to(device=device)\n",
        "        \n",
        "        optimizer.zero_grad()\n",
        "\n",
        "        output = Net(x)\n",
        "\n",
        "        loss = lossfunc(output[0],y)\n",
        "        \n",
        "        running_loss+=loss.item()\n",
        "        train_loss+=loss.item()\n",
        "\n",
        "        loss.backward()\n",
        "        optimizer.step()\n",
        "\n",
        "        if (i+1)%printfreq==0:\n",
        "            print(\"**** Epoch %d ****\\nBatch: %d\\tRunning Loss: %.4f\\n\"%(ep+1,i+1,running_loss))\n",
        "            running_loss=0.0\n",
        "        \n",
        "    logger.write(\"**** Epoch %d ****\\nTrain Loss: %.4f\\nTest Loss: %.4f\\n\\n\"%((ep+1),train_loss,test_loss))\n",
        "\n",
        "end_time=time.time()\n",
        "\n",
        "print(\"Training Complete. Time Taken: %.4f\\n\"%(end_time-start_time))\n",
        "\n",
        "torch.save(Net,model)"
      ],
      "execution_count": 0,
      "outputs": []
    },
    {
      "cell_type": "code",
      "metadata": {
        "id": "lbv509CAhYGK",
        "colab_type": "code",
        "colab": {}
      },
      "source": [
        "device=torch.device('cuda' if torch.cuda.is_available() else 'cpu')\n",
        "model='model_1.pt'\n",
        "Net=torch.load(model,device)\n",
        "logger = open(model[:-3]+'_performance.txt','w')\n",
        "\n",
        "features=torch.load('features.pt').to(device=device)\n",
        "labels=np.load('labels.npy')\n",
        "\n",
        "prediction=Net(features).detach().cpu().round()\n",
        "\n",
        "logger.write(sm.classification_report(labels,prediction))\n"
      ],
      "execution_count": 0,
      "outputs": []
    }
  ],
  "metadata": {
    "kernelspec": {
      "name": "python36964bit9d46f4e486d2497e90944540594c15d9",
      "display_name": "Python 3.6.9 64-bit"
    },
    "colab": {
      "name": "sketch_recognition.ipynb",
      "provenance": [],
      "collapsed_sections": [],
      "toc_visible": true
    },
    "accelerator": "GPU"
  },
  "nbformat": 4,
  "nbformat_minor": 0
}